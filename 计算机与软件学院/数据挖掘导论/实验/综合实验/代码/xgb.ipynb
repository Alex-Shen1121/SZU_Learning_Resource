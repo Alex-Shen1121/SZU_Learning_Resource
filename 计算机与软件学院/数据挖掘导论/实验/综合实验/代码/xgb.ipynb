{
 "cells": [
  {
   "cell_type": "code",
   "execution_count": 1,
   "metadata": {
    "ExecuteTime": {
     "end_time": "2020-04-01T10:11:53.573638Z",
     "start_time": "2020-04-01T10:11:52.954068Z"
    }
   },
   "outputs": [],
   "source": [
    "import os\n",
    "from sklearn.preprocessing import StandardScaler\n",
    "from sklearn.metrics import cohen_kappa_score, accuracy_score, mean_absolute_error, f1_score\n",
    "from sklearn.model_selection import GroupKFold, KFold, StratifiedKFold\n",
    "from tqdm import tqdm\n",
    "import xgboost as xgb\n",
    "import numpy as np\n",
    "import pandas as pd\n",
    "import math\n",
    "import matplotlib.pyplot as plt\n",
    "import seaborn as sns\n",
    "import warnings\n",
    "import gc\n",
    "from datetime import datetime\n",
    "\n",
    "warnings.filterwarnings('ignore')\n",
    "pd.set_option('display.max_columns', None)\n",
    "pd.set_option('display.max_rows', None)"
   ]
  },
  {
   "cell_type": "code",
   "execution_count": 2,
   "metadata": {
    "ExecuteTime": {
     "end_time": "2020-04-01T10:11:53.577557Z",
     "start_time": "2020-04-01T10:11:53.575435Z"
    }
   },
   "outputs": [],
   "source": [
    "seed = 2020"
   ]
  },
  {
   "cell_type": "code",
   "execution_count": 3,
   "metadata": {
    "ExecuteTime": {
     "end_time": "2020-04-01T10:11:54.013477Z",
     "start_time": "2020-04-01T10:11:53.578780Z"
    }
   },
   "outputs": [],
   "source": [
    "df_feature = pd.read_pickle('feature.pickle')"
   ]
  },
  {
   "cell_type": "code",
   "execution_count": 4,
   "metadata": {
    "ExecuteTime": {
     "end_time": "2020-04-01T10:11:54.555479Z",
     "start_time": "2020-04-01T10:11:54.014809Z"
    }
   },
   "outputs": [
    {
     "name": "stderr",
     "output_type": "stream",
     "text": [
      "  0%|          | 0/200000 [00:00<?, ?it/s]\n"
     ]
    }
   ],
   "source": [
    "from sklearn.preprocessing import LabelEncoder\n",
    "for f in tqdm(df_feature.select_dtypes('object')):\n",
    "    lbl = LabelEncoder()\n",
    "    df_feature[f] = lbl.fit_transform(df_feature[f].astype(str))"
   ]
  },
  {
   "cell_type": "code",
   "execution_count": 5,
   "metadata": {
    "ExecuteTime": {
     "end_time": "2020-04-01T10:11:55.031052Z",
     "start_time": "2020-04-01T10:11:54.556693Z"
    }
   },
   "outputs": [],
   "source": [
    "df_test = df_feature[df_feature['price'].isnull()].copy()\n",
    "df_train = df_feature[df_feature['price'].notnull()].copy()"
   ]
  },
  {
   "cell_type": "code",
   "execution_count": 6,
   "metadata": {
    "ExecuteTime": {
     "end_time": "2020-04-01T12:19:53.834236Z",
     "start_time": "2020-04-01T10:11:55.032861Z"
    },
    "scrolled": true
   },
   "outputs": [
    {
     "name": "stdout",
     "output_type": "stream",
     "text": [
      "\n",
      "Fold_1 Training ================================\n",
      "\n",
      "[14:59:57] WARNING: C:/Users/Administrator/workspace/xgboost-win64_release_1.5.0/src/learner.cc:576: \n",
      "Parameters: { \"feature_fraction\", \"num_leaves\" } might not be used.\n",
      "\n",
      "  This could be a false alarm, with some parameters getting used by language bindings but\n",
      "  then being mistakenly passed down to XGBoost core, or some parameter actually being used\n",
      "  but getting flagged wrongly here. Please open an issue if you find any such cases.\n",
      "\n",
      "\n",
      "[0]\tvalidation_0-mae:6.93086\tvalidation_1-mae:6.94007\n",
      "[1000]\tvalidation_0-mae:0.04204\tvalidation_1-mae:0.11405\n",
      "[2000]\tvalidation_0-mae:0.02531\tvalidation_1-mae:0.11285\n",
      "[3000]\tvalidation_0-mae:0.01902\tvalidation_1-mae:0.11232\n",
      "[4000]\tvalidation_0-mae:0.01571\tvalidation_1-mae:0.11207\n",
      "[5000]\tvalidation_0-mae:0.01369\tvalidation_1-mae:0.11197\n",
      "[6000]\tvalidation_0-mae:0.01231\tvalidation_1-mae:0.11188\n",
      "[7000]\tvalidation_0-mae:0.01129\tvalidation_1-mae:0.11183\n",
      "[8000]\tvalidation_0-mae:0.01050\tvalidation_1-mae:0.11179\n",
      "[9000]\tvalidation_0-mae:0.00985\tvalidation_1-mae:0.11176\n",
      "[10000]\tvalidation_0-mae:0.00933\tvalidation_1-mae:0.11175\n",
      "[10128]\tvalidation_0-mae:0.00927\tvalidation_1-mae:0.11174\n",
      "\n",
      "Fold_2 Training ================================\n",
      "\n",
      "[15:37:35] WARNING: C:/Users/Administrator/workspace/xgboost-win64_release_1.5.0/src/learner.cc:576: \n",
      "Parameters: { \"feature_fraction\", \"num_leaves\" } might not be used.\n",
      "\n",
      "  This could be a false alarm, with some parameters getting used by language bindings but\n",
      "  then being mistakenly passed down to XGBoost core, or some parameter actually being used\n",
      "  but getting flagged wrongly here. Please open an issue if you find any such cases.\n",
      "\n",
      "\n",
      "[0]\tvalidation_0-mae:6.93478\tvalidation_1-mae:6.92404\n",
      "[1000]\tvalidation_0-mae:0.04179\tvalidation_1-mae:0.11482\n",
      "[2000]\tvalidation_0-mae:0.02536\tvalidation_1-mae:0.11344\n",
      "[3000]\tvalidation_0-mae:0.01904\tvalidation_1-mae:0.11286\n",
      "[4000]\tvalidation_0-mae:0.01577\tvalidation_1-mae:0.11254\n",
      "[5000]\tvalidation_0-mae:0.01375\tvalidation_1-mae:0.11239\n",
      "[6000]\tvalidation_0-mae:0.01234\tvalidation_1-mae:0.11230\n",
      "[7000]\tvalidation_0-mae:0.01130\tvalidation_1-mae:0.11223\n",
      "[8000]\tvalidation_0-mae:0.01050\tvalidation_1-mae:0.11219\n",
      "[9000]\tvalidation_0-mae:0.00986\tvalidation_1-mae:0.11215\n",
      "[10000]\tvalidation_0-mae:0.00933\tvalidation_1-mae:0.11213\n",
      "[11000]\tvalidation_0-mae:0.00888\tvalidation_1-mae:0.11210\n",
      "[12000]\tvalidation_0-mae:0.00850\tvalidation_1-mae:0.11208\n",
      "[13000]\tvalidation_0-mae:0.00816\tvalidation_1-mae:0.11207\n",
      "[14000]\tvalidation_0-mae:0.00787\tvalidation_1-mae:0.11206\n",
      "[15000]\tvalidation_0-mae:0.00760\tvalidation_1-mae:0.11205\n",
      "[16000]\tvalidation_0-mae:0.00736\tvalidation_1-mae:0.11204\n",
      "[16390]\tvalidation_0-mae:0.00728\tvalidation_1-mae:0.11204\n",
      "\n",
      "Fold_3 Training ================================\n",
      "\n",
      "[17:37:18] WARNING: C:/Users/Administrator/workspace/xgboost-win64_release_1.5.0/src/learner.cc:576: \n",
      "Parameters: { \"feature_fraction\", \"num_leaves\" } might not be used.\n",
      "\n",
      "  This could be a false alarm, with some parameters getting used by language bindings but\n",
      "  then being mistakenly passed down to XGBoost core, or some parameter actually being used\n",
      "  but getting flagged wrongly here. Please open an issue if you find any such cases.\n",
      "\n",
      "\n",
      "[0]\tvalidation_0-mae:6.93290\tvalidation_1-mae:6.93175\n",
      "[1000]\tvalidation_0-mae:0.04202\tvalidation_1-mae:0.11549\n",
      "[2000]\tvalidation_0-mae:0.02535\tvalidation_1-mae:0.11422\n",
      "[3000]\tvalidation_0-mae:0.01906\tvalidation_1-mae:0.11366\n",
      "[4000]\tvalidation_0-mae:0.01573\tvalidation_1-mae:0.11339\n",
      "[5000]\tvalidation_0-mae:0.01369\tvalidation_1-mae:0.11326\n",
      "[6000]\tvalidation_0-mae:0.01231\tvalidation_1-mae:0.11317\n",
      "[7000]\tvalidation_0-mae:0.01127\tvalidation_1-mae:0.11312\n",
      "[8000]\tvalidation_0-mae:0.01045\tvalidation_1-mae:0.11309\n",
      "[9000]\tvalidation_0-mae:0.00981\tvalidation_1-mae:0.11306\n",
      "[10000]\tvalidation_0-mae:0.00928\tvalidation_1-mae:0.11304\n",
      "[10353]\tvalidation_0-mae:0.00912\tvalidation_1-mae:0.11303\n",
      "\n",
      "Fold_4 Training ================================\n",
      "\n",
      "[19:04:22] WARNING: C:/Users/Administrator/workspace/xgboost-win64_release_1.5.0/src/learner.cc:576: \n",
      "Parameters: { \"feature_fraction\", \"num_leaves\" } might not be used.\n",
      "\n",
      "  This could be a false alarm, with some parameters getting used by language bindings but\n",
      "  then being mistakenly passed down to XGBoost core, or some parameter actually being used\n",
      "  but getting flagged wrongly here. Please open an issue if you find any such cases.\n",
      "\n",
      "\n",
      "[0]\tvalidation_0-mae:6.93361\tvalidation_1-mae:6.92899\n",
      "[1000]\tvalidation_0-mae:0.04167\tvalidation_1-mae:0.11452\n",
      "[2000]\tvalidation_0-mae:0.02537\tvalidation_1-mae:0.11321\n",
      "[3000]\tvalidation_0-mae:0.01902\tvalidation_1-mae:0.11282\n",
      "[4000]\tvalidation_0-mae:0.01573\tvalidation_1-mae:0.11257\n",
      "[5000]\tvalidation_0-mae:0.01371\tvalidation_1-mae:0.11245\n",
      "[6000]\tvalidation_0-mae:0.01230\tvalidation_1-mae:0.11235\n",
      "[7000]\tvalidation_0-mae:0.01127\tvalidation_1-mae:0.11231\n",
      "[8000]\tvalidation_0-mae:0.01047\tvalidation_1-mae:0.11228\n",
      "[9000]\tvalidation_0-mae:0.00983\tvalidation_1-mae:0.11225\n",
      "[10000]\tvalidation_0-mae:0.00930\tvalidation_1-mae:0.11223\n",
      "[11000]\tvalidation_0-mae:0.00885\tvalidation_1-mae:0.11222\n",
      "[11480]\tvalidation_0-mae:0.00866\tvalidation_1-mae:0.11222\n",
      "\n",
      "Fold_5 Training ================================\n",
      "\n",
      "[20:54:59] WARNING: C:/Users/Administrator/workspace/xgboost-win64_release_1.5.0/src/learner.cc:576: \n",
      "Parameters: { \"feature_fraction\", \"num_leaves\" } might not be used.\n",
      "\n",
      "  This could be a false alarm, with some parameters getting used by language bindings but\n",
      "  then being mistakenly passed down to XGBoost core, or some parameter actually being used\n",
      "  but getting flagged wrongly here. Please open an issue if you find any such cases.\n",
      "\n",
      "\n",
      "[0]\tvalidation_0-mae:6.93125\tvalidation_1-mae:6.93883\n",
      "[1000]\tvalidation_0-mae:0.04192\tvalidation_1-mae:0.11557\n",
      "[2000]\tvalidation_0-mae:0.02533\tvalidation_1-mae:0.11427\n",
      "[3000]\tvalidation_0-mae:0.01907\tvalidation_1-mae:0.11379\n",
      "[4000]\tvalidation_0-mae:0.01577\tvalidation_1-mae:0.11353\n",
      "[5000]\tvalidation_0-mae:0.01376\tvalidation_1-mae:0.11340\n",
      "[6000]\tvalidation_0-mae:0.01236\tvalidation_1-mae:0.11328\n",
      "[7000]\tvalidation_0-mae:0.01133\tvalidation_1-mae:0.11323\n",
      "[8000]\tvalidation_0-mae:0.01053\tvalidation_1-mae:0.11320\n",
      "[9000]\tvalidation_0-mae:0.00989\tvalidation_1-mae:0.11316\n",
      "[10000]\tvalidation_0-mae:0.00936\tvalidation_1-mae:0.11314\n",
      "[10811]\tvalidation_0-mae:0.00899\tvalidation_1-mae:0.11314\n"
     ]
    }
   ],
   "source": [
    "ycol = 'price'\n",
    "feature_names = list(\n",
    "    filter(lambda x: x not in [ycol, 'SaleID', 'regDate', 'creatDate', 'creatDate_year', 'creatDate_month'], df_train.columns))\n",
    "\n",
    "model = xgb.XGBRegressor(num_leaves=64,\n",
    "                         max_depth=8,\n",
    "                         learning_rate=0.08,\n",
    "                         n_estimators=10000000,\n",
    "                         subsample=0.75,\n",
    "                         feature_fraction=0.75,\n",
    "                         reg_alpha=0.7,\n",
    "                         reg_lambda=1.2,\n",
    "                         random_state=seed,\n",
    "                         metric=None,\n",
    "                         tree_method='hist'\n",
    "                         )\n",
    "\n",
    "oof = []\n",
    "prediction = df_test[['SaleID']]\n",
    "prediction['price'] = 0\n",
    "df_importance_list = []\n",
    "\n",
    "kfold = KFold(n_splits=5, shuffle=True, random_state=seed)\n",
    "for fold_id, (trn_idx, val_idx) in enumerate(kfold.split(df_train[feature_names])):\n",
    "    X_train = df_train.iloc[trn_idx][feature_names]\n",
    "    Y_train = df_train.iloc[trn_idx][ycol]\n",
    "\n",
    "    X_val = df_train.iloc[val_idx][feature_names]\n",
    "    Y_val = df_train.iloc[val_idx][ycol]\n",
    "\n",
    "    print('\\nFold_{} Training ================================\\n'.format(fold_id+1))\n",
    "\n",
    "    lgb_model = model.fit(X_train,\n",
    "                          Y_train,\n",
    "                          eval_set=[(X_train, Y_train), (X_val, Y_val)],\n",
    "                          verbose=1000,\n",
    "                          eval_metric='mae',\n",
    "                          early_stopping_rounds=500)\n",
    "\n",
    "    pred_val = lgb_model.predict(\n",
    "        X_val)\n",
    "    df_oof = df_train.iloc[val_idx][['SaleID', ycol]].copy()\n",
    "    df_oof['pred'] = pred_val\n",
    "    oof.append(df_oof)\n",
    "\n",
    "    pred_test = lgb_model.predict(\n",
    "        df_test[feature_names])\n",
    "    prediction['price'] += pred_test / 5\n",
    "\n",
    "    df_importance = pd.DataFrame({\n",
    "        'column': feature_names,\n",
    "        'importance': lgb_model.feature_importances_,\n",
    "    })\n",
    "    df_importance_list.append(df_importance)\n",
    "\n",
    "    del lgb_model, pred_val, pred_test, X_train, Y_train, X_val, Y_val\n",
    "    gc.collect()"
   ]
  },
  {
   "cell_type": "code",
   "execution_count": 1,
   "metadata": {
    "ExecuteTime": {
     "end_time": "2020-04-01T12:19:53.866498Z",
     "start_time": "2020-04-01T12:19:53.835713Z"
    },
    "scrolled": true
   },
   "outputs": [
    {
     "ename": "NameError",
     "evalue": "name 'pd' is not defined",
     "output_type": "error",
     "traceback": [
      "\u001b[1;31m---------------------------------------------------------------------------\u001b[0m",
      "\u001b[1;31mNameError\u001b[0m                                 Traceback (most recent call last)",
      "\u001b[1;32m~\\AppData\\Local\\Temp/ipykernel_103728/3042792164.py\u001b[0m in \u001b[0;36m<module>\u001b[1;34m\u001b[0m\n\u001b[1;32m----> 1\u001b[1;33m \u001b[0mdf_importance\u001b[0m \u001b[1;33m=\u001b[0m \u001b[0mpd\u001b[0m\u001b[1;33m.\u001b[0m\u001b[0mconcat\u001b[0m\u001b[1;33m(\u001b[0m\u001b[0mdf_importance_list\u001b[0m\u001b[1;33m)\u001b[0m\u001b[1;33m\u001b[0m\u001b[1;33m\u001b[0m\u001b[0m\n\u001b[0m\u001b[0;32m      2\u001b[0m df_importance = df_importance.groupby(['column'])['importance'].agg(\n\u001b[0;32m      3\u001b[0m     'mean').sort_values(ascending=False).reset_index()\n\u001b[0;32m      4\u001b[0m \u001b[0mdf_importance\u001b[0m\u001b[1;33m\u001b[0m\u001b[1;33m\u001b[0m\u001b[0m\n",
      "\u001b[1;31mNameError\u001b[0m: name 'pd' is not defined"
     ]
    }
   ],
   "source": [
    "df_importance = pd.concat(df_importance_list)\n",
    "df_importance = df_importance.groupby(['column'])['importance'].agg(\n",
    "    'mean').sort_values(ascending=False).reset_index()\n",
    "df_importance"
   ]
  },
  {
   "cell_type": "code",
   "execution_count": 8,
   "metadata": {
    "ExecuteTime": {
     "end_time": "2020-04-01T12:19:54.344228Z",
     "start_time": "2020-04-01T12:19:53.867796Z"
    }
   },
   "outputs": [
    {
     "name": "stdout",
     "output_type": "stream",
     "text": [
      "mae: 480.0760716578102\n"
     ]
    }
   ],
   "source": [
    "df_oof = pd.concat(oof)\n",
    "df_oof[ycol] = np.expm1(df_oof[ycol])\n",
    "df_oof['pred'] = np.expm1(df_oof['pred'])\n",
    "mae = mean_absolute_error(df_oof[ycol], df_oof['pred'])\n",
    "print('mae:', mae)\n",
    "df_oof.to_csv('xgb_oof.csv'.format(mae), index=False, encoding='utf-8')"
   ]
  },
  {
   "cell_type": "code",
   "execution_count": 9,
   "metadata": {
    "ExecuteTime": {
     "end_time": "2020-04-01T12:19:54.618364Z",
     "start_time": "2020-04-01T12:19:54.345642Z"
    }
   },
   "outputs": [],
   "source": [
    "prediction['price'] = np.expm1(prediction['price'])\n",
    "sub = prediction.copy(deep=True)\n",
    "sub.to_csv('sub/xgb_{}.csv'.format(mae), index=False, encoding='utf-8')\n",
    "sub.to_csv('xgb.csv'.format(mae), index=False, encoding='utf-8')"
   ]
  },
  {
   "cell_type": "code",
   "execution_count": 10,
   "metadata": {
    "ExecuteTime": {
     "end_time": "2020-04-01T12:19:54.625279Z",
     "start_time": "2020-04-01T12:19:54.619753Z"
    }
   },
   "outputs": [
    {
     "data": {
      "text/html": [
       "<div>\n",
       "<style scoped>\n",
       "    .dataframe tbody tr th:only-of-type {\n",
       "        vertical-align: middle;\n",
       "    }\n",
       "\n",
       "    .dataframe tbody tr th {\n",
       "        vertical-align: top;\n",
       "    }\n",
       "\n",
       "    .dataframe thead th {\n",
       "        text-align: right;\n",
       "    }\n",
       "</style>\n",
       "<table border=\"1\" class=\"dataframe\">\n",
       "  <thead>\n",
       "    <tr style=\"text-align: right;\">\n",
       "      <th></th>\n",
       "      <th>SaleID</th>\n",
       "      <th>price</th>\n",
       "    </tr>\n",
       "  </thead>\n",
       "  <tbody>\n",
       "    <tr>\n",
       "      <th>0</th>\n",
       "      <td>200000</td>\n",
       "      <td>1263.522947</td>\n",
       "    </tr>\n",
       "    <tr>\n",
       "      <th>1</th>\n",
       "      <td>200001</td>\n",
       "      <td>1986.425167</td>\n",
       "    </tr>\n",
       "    <tr>\n",
       "      <th>2</th>\n",
       "      <td>200002</td>\n",
       "      <td>8603.206575</td>\n",
       "    </tr>\n",
       "    <tr>\n",
       "      <th>3</th>\n",
       "      <td>200003</td>\n",
       "      <td>999.216484</td>\n",
       "    </tr>\n",
       "    <tr>\n",
       "      <th>4</th>\n",
       "      <td>200004</td>\n",
       "      <td>2018.290815</td>\n",
       "    </tr>\n",
       "  </tbody>\n",
       "</table>\n",
       "</div>"
      ],
      "text/plain": [
       "   SaleID        price\n",
       "0  200000  1263.522947\n",
       "1  200001  1986.425167\n",
       "2  200002  8603.206575\n",
       "3  200003   999.216484\n",
       "4  200004  2018.290815"
      ]
     },
     "execution_count": 10,
     "metadata": {},
     "output_type": "execute_result"
    }
   ],
   "source": [
    "sub.head()"
   ]
  },
  {
   "cell_type": "code",
   "execution_count": null,
   "metadata": {},
   "outputs": [],
   "source": []
  }
 ],
 "metadata": {
  "interpreter": {
   "hash": "48108b9a5c33d116ad41a11d4f2f7b666582b63ab9c08aaa7e11c5572f9bf979"
  },
  "kernelspec": {
   "display_name": "Python [conda env:dm] *",
   "language": "python",
   "name": "python3"
  },
  "language_info": {
   "codemirror_mode": {
    "name": "ipython",
    "version": 3
   },
   "file_extension": ".py",
   "mimetype": "text/x-python",
   "name": "python",
   "nbconvert_exporter": "python",
   "pygments_lexer": "ipython3",
   "version": "3.9.5"
  }
 },
 "nbformat": 4,
 "nbformat_minor": 2
}
