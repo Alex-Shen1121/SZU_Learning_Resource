{
 "cells": [
  {
   "cell_type": "code",
   "execution_count": 1,
   "metadata": {},
   "outputs": [],
   "source": [
    "def gammarEncodeNumber(num):\n",
    "    # num转化为二进制，去掉第一位的1，构成offset\n",
    "    offset = bin(num)[3:]\n",
    "    # 根据offset计算长度，构成一元编码\n",
    "    length = '1' * len(offset) + '0'\n",
    "    # 构成gamma编码\n",
    "    gammarCode = length + offset\n",
    "    return gammarCode\n",
    "    "
   ]
  },
  {
   "cell_type": "code",
   "execution_count": 2,
   "metadata": {},
   "outputs": [],
   "source": [
    "def GammarEncode(numbers):\n",
    "    # 根据数字流构成gamma编码字节流\n",
    "    bytestream = ''\n",
    "    for n in numbers:\n",
    "        bytes = gammarEncodeNumber(n)\n",
    "        bytestream += bytes\n",
    "    return bytestream"
   ]
  },
  {
   "cell_type": "code",
   "execution_count": 3,
   "metadata": {},
   "outputs": [],
   "source": [
    "def gammarDecode(bytestream):\n",
    "    numbers = []\n",
    "    i = 0\n",
    "    # 读入字节流\n",
    "    while i < len(bytestream):\n",
    "        length = 0\n",
    "        # 找到第一个0\n",
    "        while bytestream[i] != '0':\n",
    "            i += 1\n",
    "            # 计算1的长度，即offset的长度\n",
    "            length += 1\n",
    "        # 提取offset\n",
    "        offset = bytestream[i + 1: i + length + 1]\n",
    "        # 给offset首位添1，并转换为十进制\n",
    "        numbers.append(int('1'+offset, 2))\n",
    "        i += length + 1\n",
    "    # 返回数字流\n",
    "    return numbers\n",
    "    "
   ]
  },
  {
   "cell_type": "code",
   "execution_count": 4,
   "metadata": {},
   "outputs": [
    {
     "name": "stdout",
     "output_type": "stream",
     "text": [
      "[113, 309, 720]\n"
     ]
    }
   ],
   "source": [
    "print(gammarDecode(GammarEncode([113,309,720])))"
   ]
  }
 ],
 "metadata": {
  "interpreter": {
   "hash": "2b38f256b5e5cfcb08c8fab1bb2c0ed1d264b1b0baf1af9aa926f047321c09a2"
  },
  "kernelspec": {
   "display_name": "Python 3.9.7 ('base')",
   "language": "python",
   "name": "python3"
  },
  "language_info": {
   "codemirror_mode": {
    "name": "ipython",
    "version": 3
   },
   "file_extension": ".py",
   "mimetype": "text/x-python",
   "name": "python",
   "nbconvert_exporter": "python",
   "pygments_lexer": "ipython3",
   "version": "3.9.7"
  },
  "orig_nbformat": 4
 },
 "nbformat": 4,
 "nbformat_minor": 2
}
