{
 "cells": [
  {
   "cell_type": "code",
   "execution_count": 55,
   "metadata": {},
   "outputs": [],
   "source": [
    "def VBEncodeNumber(num):\n",
    "    # 存储每个字节的十进制编码（0-127）\n",
    "    bytes = []\n",
    "    while True:\n",
    "        bytes.insert(0, num %128)\n",
    "        if num < 128:\n",
    "            break\n",
    "        num = num // 128\n",
    "    # 将延续位变为1\n",
    "    bytes[-1] += 128\n",
    "    # # 展示二进制编码\n",
    "    # print(['{:08b}'.format(x) for x in bytes])\n",
    "    return bytes"
   ]
  },
  {
   "cell_type": "code",
   "execution_count": 56,
   "metadata": {},
   "outputs": [],
   "source": [
    "def VBEncode(numbers):\n",
    "    # 字节流\n",
    "    bytestream = []\n",
    "    # 将每个数字进行VB编码，并存入字节流\n",
    "    for n in numbers:\n",
    "        bytes = VBEncodeNumber(n)\n",
    "        bytestream.extend(bytes)\n",
    "    return bytestream"
   ]
  },
  {
   "cell_type": "code",
   "execution_count": 57,
   "metadata": {},
   "outputs": [],
   "source": [
    "def VBDecode(bytestream):\n",
    "    numbers = []\n",
    "    n = 0\n",
    "    # 读入字节流，并解析出每个数字\n",
    "    for i in range(len(bytestream)):\n",
    "        # 大于128说明数字有延续位，结束\n",
    "        if bytestream[i] < 128:\n",
    "            n = 128*n + bytestream[i]\n",
    "        else:\n",
    "            n = 128*n + bytestream[i] - 128\n",
    "            numbers.append(n)\n",
    "            n = 0\n",
    "    return numbers\n"
   ]
  },
  {
   "cell_type": "code",
   "execution_count": 59,
   "metadata": {},
   "outputs": [
    {
     "name": "stdout",
     "output_type": "stream",
     "text": [
      "[141, 6, 184, 4, 129]\n",
      "0b100110101\n"
     ]
    }
   ],
   "source": [
    "nums = [13, 824, 513]\n",
    "print(VBEncode(nums))\n",
    "print(bin(309))"
   ]
  }
 ],
 "metadata": {
  "interpreter": {
   "hash": "2b38f256b5e5cfcb08c8fab1bb2c0ed1d264b1b0baf1af9aa926f047321c09a2"
  },
  "kernelspec": {
   "display_name": "Python 3.9.7 ('base')",
   "language": "python",
   "name": "python3"
  },
  "language_info": {
   "codemirror_mode": {
    "name": "ipython",
    "version": 3
   },
   "file_extension": ".py",
   "mimetype": "text/x-python",
   "name": "python",
   "nbconvert_exporter": "python",
   "pygments_lexer": "ipython3",
   "version": "3.9.7"
  },
  "orig_nbformat": 4
 },
 "nbformat": 4,
 "nbformat_minor": 2
}
