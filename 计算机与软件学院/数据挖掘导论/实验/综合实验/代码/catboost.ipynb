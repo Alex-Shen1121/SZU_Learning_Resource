{
 "cells": [
  {
   "cell_type": "code",
   "execution_count": 46,
   "metadata": {
    "ExecuteTime": {
     "end_time": "2020-04-01T10:11:53.573638Z",
     "start_time": "2020-04-01T10:11:52.954068Z"
    }
   },
   "outputs": [],
   "source": [
    "import os\n",
    "from sklearn.preprocessing import StandardScaler\n",
    "from sklearn.metrics import cohen_kappa_score, accuracy_score, mean_absolute_error, f1_score\n",
    "from sklearn.model_selection import GroupKFold, KFold, StratifiedKFold\n",
    "from tqdm import tqdm\n",
    "import xgboost as xgb\n",
    "import catboost as ctb\n",
    "import numpy as np\n",
    "import pandas as pd\n",
    "import math\n",
    "import matplotlib.pyplot as plt\n",
    "import seaborn as sns\n",
    "import warnings\n",
    "import gc\n",
    "from datetime import datetime\n",
    "\n",
    "warnings.filterwarnings('ignore')\n",
    "pd.set_option('display.max_columns', None)\n",
    "pd.set_option('display.max_rows', None)"
   ]
  },
  {
   "cell_type": "code",
   "execution_count": 47,
   "metadata": {
    "ExecuteTime": {
     "end_time": "2020-04-01T10:11:53.577557Z",
     "start_time": "2020-04-01T10:11:53.575435Z"
    }
   },
   "outputs": [],
   "source": [
    "seed = 2020"
   ]
  },
  {
   "cell_type": "code",
   "execution_count": 48,
   "metadata": {
    "ExecuteTime": {
     "end_time": "2020-04-01T10:11:54.013477Z",
     "start_time": "2020-04-01T10:11:53.578780Z"
    }
   },
   "outputs": [],
   "source": [
    "df_feature = pd.read_pickle('feature.pickle')"
   ]
  },
  {
   "cell_type": "code",
   "execution_count": 49,
   "metadata": {
    "ExecuteTime": {
     "end_time": "2020-04-01T10:11:54.555479Z",
     "start_time": "2020-04-01T10:11:54.014809Z"
    }
   },
   "outputs": [
    {
     "name": "stderr",
     "output_type": "stream",
     "text": [
      "  0%|          | 0/200000 [00:00<?, ?it/s]\n"
     ]
    }
   ],
   "source": [
    "from sklearn.preprocessing import LabelEncoder\n",
    "for f in tqdm(df_feature.select_dtypes('object')):\n",
    "    lbl = LabelEncoder()\n",
    "    df_feature[f] = lbl.fit_transform(df_feature[f].astype(str))"
   ]
  },
  {
   "cell_type": "code",
   "execution_count": 50,
   "metadata": {
    "ExecuteTime": {
     "end_time": "2020-04-01T10:11:55.031052Z",
     "start_time": "2020-04-01T10:11:54.556693Z"
    }
   },
   "outputs": [],
   "source": [
    "df_test = df_feature[df_feature['price'].isnull()].copy()\n",
    "df_train = df_feature[df_feature['price'].notnull()].copy()"
   ]
  },
  {
   "cell_type": "code",
   "execution_count": 51,
   "metadata": {
    "ExecuteTime": {
     "end_time": "2020-04-01T12:19:53.834236Z",
     "start_time": "2020-04-01T10:11:55.032861Z"
    },
    "scrolled": true
   },
   "outputs": [
    {
     "name": "stdout",
     "output_type": "stream",
     "text": [
      "\n",
      "Fold_1 Training ================================\n",
      "\n"
     ]
    },
    {
     "name": "stderr",
     "output_type": "stream",
     "text": [
      "Custom logger is already specified. Specify more than one logger at same time is not thread safe."
     ]
    },
    {
     "name": "stdout",
     "output_type": "stream",
     "text": [
      "0:\tlearn: 1.1320714\ttotal: 373ms\tremaining: 1h 2m 6s\n",
      "1000:\tlearn: 0.1316481\ttotal: 6m 4s\tremaining: 54m 36s\n",
      "2000:\tlearn: 0.0945439\ttotal: 12m 8s\tremaining: 48m 32s\n",
      "3000:\tlearn: 0.0719526\ttotal: 17m 58s\tremaining: 41m 56s\n",
      "4000:\tlearn: 0.0570824\ttotal: 23m 44s\tremaining: 35m 36s\n",
      "5000:\tlearn: 0.0463233\ttotal: 29m 33s\tremaining: 29m 32s\n",
      "6000:\tlearn: 0.0384849\ttotal: 35m 22s\tremaining: 23m 34s\n",
      "7000:\tlearn: 0.0324109\ttotal: 41m 15s\tremaining: 17m 40s\n",
      "8000:\tlearn: 0.0276795\ttotal: 47m 9s\tremaining: 11m 47s\n",
      "9000:\tlearn: 0.0237888\ttotal: 53m 4s\tremaining: 5m 53s\n",
      "9999:\tlearn: 0.0206946\ttotal: 59m 5s\tremaining: 0us\n",
      "\n",
      "Fold_2 Training ================================\n",
      "\n",
      "0:\tlearn: 1.1315348\ttotal: 446ms\tremaining: 1h 14m 16s\n",
      "1000:\tlearn: 0.1304567\ttotal: 5m 59s\tremaining: 53m 53s\n",
      "2000:\tlearn: 0.0932892\ttotal: 11m 57s\tremaining: 47m 49s\n",
      "3000:\tlearn: 0.0716795\ttotal: 17m 55s\tremaining: 41m 47s\n",
      "4000:\tlearn: 0.0568200\ttotal: 24m 5s\tremaining: 36m 7s\n",
      "5000:\tlearn: 0.0463679\ttotal: 30m 5s\tremaining: 30m 4s\n",
      "6000:\tlearn: 0.0384532\ttotal: 36m\tremaining: 23m 59s\n",
      "7000:\tlearn: 0.0324498\ttotal: 41m 48s\tremaining: 17m 54s\n",
      "8000:\tlearn: 0.0277042\ttotal: 47m 35s\tremaining: 11m 53s\n",
      "9000:\tlearn: 0.0238228\ttotal: 53m 24s\tremaining: 5m 55s\n",
      "9999:\tlearn: 0.0207856\ttotal: 59m 6s\tremaining: 0us\n",
      "\n",
      "Fold_3 Training ================================\n",
      "\n",
      "0:\tlearn: 1.1323025\ttotal: 320ms\tremaining: 53m 20s\n",
      "1000:\tlearn: 0.1305382\ttotal: 5m 41s\tremaining: 51m 13s\n",
      "2000:\tlearn: 0.0935871\ttotal: 11m 24s\tremaining: 45m 37s\n",
      "3000:\tlearn: 0.0718591\ttotal: 17m 5s\tremaining: 39m 51s\n",
      "4000:\tlearn: 0.0568517\ttotal: 22m 45s\tremaining: 34m 7s\n",
      "5000:\tlearn: 0.0461985\ttotal: 28m 24s\tremaining: 28m 24s\n",
      "6000:\tlearn: 0.0382111\ttotal: 34m 5s\tremaining: 22m 43s\n",
      "7000:\tlearn: 0.0320314\ttotal: 39m 56s\tremaining: 17m 6s\n",
      "8000:\tlearn: 0.0273226\ttotal: 46m 3s\tremaining: 11m 30s\n",
      "9000:\tlearn: 0.0234898\ttotal: 52m 43s\tremaining: 5m 51s\n",
      "9999:\tlearn: 0.0204129\ttotal: 59m 32s\tremaining: 0us\n",
      "\n",
      "Fold_4 Training ================================\n",
      "\n",
      "0:\tlearn: 1.1340008\ttotal: 415ms\tremaining: 1h 9m 9s\n",
      "1000:\tlearn: 0.1314329\ttotal: 6m 12s\tremaining: 55m 48s\n",
      "2000:\tlearn: 0.0937976\ttotal: 13m 18s\tremaining: 53m 13s\n",
      "3000:\tlearn: 0.0717289\ttotal: 19m 40s\tremaining: 45m 53s\n",
      "4000:\tlearn: 0.0568004\ttotal: 25m 45s\tremaining: 38m 37s\n",
      "5000:\tlearn: 0.0461014\ttotal: 31m 53s\tremaining: 31m 52s\n",
      "6000:\tlearn: 0.0382072\ttotal: 37m 56s\tremaining: 25m 17s\n",
      "7000:\tlearn: 0.0321749\ttotal: 43m 55s\tremaining: 18m 49s\n",
      "8000:\tlearn: 0.0273752\ttotal: 49m 51s\tremaining: 12m 27s\n",
      "9000:\tlearn: 0.0235502\ttotal: 56m 2s\tremaining: 6m 13s\n",
      "9999:\tlearn: 0.0204681\ttotal: 1h 2m 13s\tremaining: 0us\n",
      "\n",
      "Fold_5 Training ================================\n",
      "\n",
      "0:\tlearn: 1.1337760\ttotal: 353ms\tremaining: 58m 53s\n",
      "1000:\tlearn: 0.1312156\ttotal: 7m 19s\tremaining: 1h 5m 53s\n",
      "2000:\tlearn: 0.0933145\ttotal: 14m\tremaining: 56m 1s\n",
      "3000:\tlearn: 0.0717881\ttotal: 20m 25s\tremaining: 47m 38s\n",
      "4000:\tlearn: 0.0568927\ttotal: 26m 59s\tremaining: 40m 28s\n",
      "5000:\tlearn: 0.0460623\ttotal: 33m 29s\tremaining: 33m 28s\n",
      "6000:\tlearn: 0.0381844\ttotal: 39m 55s\tremaining: 26m 36s\n",
      "7000:\tlearn: 0.0320867\ttotal: 46m 21s\tremaining: 19m 51s\n",
      "8000:\tlearn: 0.0272916\ttotal: 53m 2s\tremaining: 13m 15s\n",
      "9000:\tlearn: 0.0235376\ttotal: 59m 38s\tremaining: 6m 37s\n",
      "9999:\tlearn: 0.0205303\ttotal: 1h 6m 14s\tremaining: 0us\n"
     ]
    }
   ],
   "source": [
    "ycol = 'price'\n",
    "feature_names = list(\n",
    "    filter(lambda x: x not in [ycol, 'SaleID', 'regDate', 'creatDate', 'creatDate_year', 'creatDate_month'], df_train.columns))\n",
    "\n",
    "model = ctb.CatBoostRegressor(\n",
    "    learning_rate=0.08,\n",
    "    depth=10,\n",
    "    subsample=0.75,\n",
    "    n_estimators=100000,\n",
    "    loss_function='RMSE',\n",
    "    random_seed=seed,\n",
    ")\n",
    "\n",
    "oof = []\n",
    "prediction = df_test[['SaleID']]\n",
    "prediction['price'] = 0\n",
    "df_importance_list = []\n",
    "\n",
    "kfold = KFold(n_splits=5, shuffle=True, random_state=seed)\n",
    "for fold_id, (trn_idx, val_idx) in enumerate(kfold.split(df_train[feature_names])):\n",
    "    X_train = df_train.iloc[trn_idx][feature_names]\n",
    "    Y_train = df_train.iloc[trn_idx][ycol]\n",
    "\n",
    "    X_val = df_train.iloc[val_idx][feature_names]\n",
    "    Y_val = df_train.iloc[val_idx][ycol]\n",
    "\n",
    "    print('\\nFold_{} Training ================================\\n'.format(fold_id+1))\n",
    "\n",
    "    ctb_model = model.fit(X_train,\n",
    "                          Y_train,\n",
    "                          verbose=1000,\n",
    "                          early_stopping_rounds=500)\n",
    "\n",
    "    pred_val = ctb_model.predict(\n",
    "        X_val)\n",
    "    df_oof = df_train.iloc[val_idx][['SaleID', ycol]].copy()\n",
    "    df_oof['pred'] = pred_val\n",
    "    oof.append(df_oof)\n",
    "\n",
    "    pred_test = ctb_model.predict(\n",
    "        df_test[feature_names])\n",
    "    prediction['price'] += pred_test / 5\n",
    "\n",
    "    df_importance = pd.DataFrame({\n",
    "        'column': feature_names,\n",
    "        'importance': ctb_model.feature_importances_,\n",
    "    })\n",
    "    df_importance_list.append(df_importance)\n",
    "\n",
    "    del ctb_model, pred_val, pred_test, X_train, Y_train, X_val, Y_val\n",
    "    gc.collect()\n"
   ]
  },
  {
   "cell_type": "code",
   "execution_count": 52,
   "metadata": {
    "ExecuteTime": {
     "end_time": "2020-04-01T12:19:53.866498Z",
     "start_time": "2020-04-01T12:19:53.835713Z"
    },
    "scrolled": true
   },
   "outputs": [],
   "source": [
    "df_importance = pd.concat(df_importance_list)\n",
    "df_importance = df_importance.groupby(['column'])['importance'].agg(\n",
    "    'mean').sort_values(ascending=False).reset_index()\n",
    "# df_importance"
   ]
  },
  {
   "cell_type": "code",
   "execution_count": 53,
   "metadata": {
    "ExecuteTime": {
     "end_time": "2020-04-01T12:19:54.344228Z",
     "start_time": "2020-04-01T12:19:53.867796Z"
    }
   },
   "outputs": [
    {
     "name": "stdout",
     "output_type": "stream",
     "text": [
      "mae: 456.0954469643469\n"
     ]
    }
   ],
   "source": [
    "df_oof = pd.concat(oof)\n",
    "df_oof[ycol] = np.expm1(df_oof[ycol])\n",
    "df_oof['pred'] = np.expm1(df_oof['pred'])\n",
    "mae = mean_absolute_error(df_oof[ycol], df_oof['pred'])\n",
    "print('mae:', mae)\n",
    "df_oof.to_csv('ctb_oof.csv'.format(mae), index=False, encoding='utf-8')"
   ]
  },
  {
   "cell_type": "code",
   "execution_count": 54,
   "metadata": {
    "ExecuteTime": {
     "end_time": "2020-04-01T12:19:54.618364Z",
     "start_time": "2020-04-01T12:19:54.345642Z"
    }
   },
   "outputs": [],
   "source": [
    "prediction['price'] = np.expm1(prediction['price'])\n",
    "sub = prediction.copy(deep=True)\n",
    "sub.to_csv('sub/ctb_{}.csv'.format(mae), index=False, encoding='utf-8')\n",
    "sub.to_csv('ctb.csv'.format(mae), index=False, encoding='utf-8')"
   ]
  },
  {
   "cell_type": "code",
   "execution_count": 55,
   "metadata": {
    "ExecuteTime": {
     "end_time": "2020-04-01T12:19:54.625279Z",
     "start_time": "2020-04-01T12:19:54.619753Z"
    }
   },
   "outputs": [
    {
     "data": {
      "text/html": [
       "<div>\n",
       "<style scoped>\n",
       "    .dataframe tbody tr th:only-of-type {\n",
       "        vertical-align: middle;\n",
       "    }\n",
       "\n",
       "    .dataframe tbody tr th {\n",
       "        vertical-align: top;\n",
       "    }\n",
       "\n",
       "    .dataframe thead th {\n",
       "        text-align: right;\n",
       "    }\n",
       "</style>\n",
       "<table border=\"1\" class=\"dataframe\">\n",
       "  <thead>\n",
       "    <tr style=\"text-align: right;\">\n",
       "      <th></th>\n",
       "      <th>SaleID</th>\n",
       "      <th>price</th>\n",
       "    </tr>\n",
       "  </thead>\n",
       "  <tbody>\n",
       "    <tr>\n",
       "      <th>0</th>\n",
       "      <td>200000</td>\n",
       "      <td>1255.680901</td>\n",
       "    </tr>\n",
       "    <tr>\n",
       "      <th>1</th>\n",
       "      <td>200001</td>\n",
       "      <td>1951.761372</td>\n",
       "    </tr>\n",
       "    <tr>\n",
       "      <th>2</th>\n",
       "      <td>200002</td>\n",
       "      <td>8759.420316</td>\n",
       "    </tr>\n",
       "    <tr>\n",
       "      <th>3</th>\n",
       "      <td>200003</td>\n",
       "      <td>1023.983630</td>\n",
       "    </tr>\n",
       "    <tr>\n",
       "      <th>4</th>\n",
       "      <td>200004</td>\n",
       "      <td>2013.304828</td>\n",
       "    </tr>\n",
       "  </tbody>\n",
       "</table>\n",
       "</div>"
      ],
      "text/plain": [
       "   SaleID        price\n",
       "0  200000  1255.680901\n",
       "1  200001  1951.761372\n",
       "2  200002  8759.420316\n",
       "3  200003  1023.983630\n",
       "4  200004  2013.304828"
      ]
     },
     "execution_count": 55,
     "metadata": {},
     "output_type": "execute_result"
    }
   ],
   "source": [
    "sub.head()"
   ]
  },
  {
   "cell_type": "code",
   "execution_count": null,
   "metadata": {},
   "outputs": [],
   "source": []
  }
 ],
 "metadata": {
  "interpreter": {
   "hash": "48108b9a5c33d116ad41a11d4f2f7b666582b63ab9c08aaa7e11c5572f9bf979"
  },
  "kernelspec": {
   "display_name": "Python [conda env:dm] *",
   "language": "python",
   "name": "python3"
  },
  "language_info": {
   "codemirror_mode": {
    "name": "ipython",
    "version": 3
   },
   "file_extension": ".py",
   "mimetype": "text/x-python",
   "name": "python",
   "nbconvert_exporter": "python",
   "pygments_lexer": "ipython3",
   "version": "3.9.5"
  }
 },
 "nbformat": 4,
 "nbformat_minor": 2
}
