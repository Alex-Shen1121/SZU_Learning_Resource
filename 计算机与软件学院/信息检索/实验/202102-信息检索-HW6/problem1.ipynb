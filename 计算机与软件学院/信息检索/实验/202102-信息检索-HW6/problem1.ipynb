{
 "cells": [
  {
   "cell_type": "code",
   "execution_count": 1,
   "metadata": {},
   "outputs": [],
   "source": [
    "import  numpy as np"
   ]
  },
  {
   "cell_type": "code",
   "execution_count": 2,
   "metadata": {},
   "outputs": [],
   "source": [
    "def addEdge(graph, u, v):\n",
    "    graph[u - 1][v - 1] = 1"
   ]
  },
  {
   "cell_type": "code",
   "execution_count": 3,
   "metadata": {},
   "outputs": [
    {
     "name": "stdout",
     "output_type": "stream",
     "text": [
      "[[0. 1. 1.]\n",
      " [0. 0. 1.]\n",
      " [0. 1. 0.]]\n",
      "[[0.01666667 0.49166667 0.49166667]\n",
      " [0.01666667 0.01666667 0.96666667]\n",
      " [0.01666667 0.96666667 0.01666667]]\n",
      "x = [0.33333333 0.33333333 0.33333333]\n",
      "xP1 = [0.017 0.492 0.492]\n",
      "xP2 = [0.017 0.492 0.492]\n"
     ]
    }
   ],
   "source": [
    "# 节点个数，转移概率\n",
    "n, alpha = 3, 0.05\n",
    "epsilon, max_iter = 1e-6, 200\n",
    "\n",
    "# 首先生成一个n*n的矩阵，全部初始化为0\n",
    "linkMatrix = np.zeros((n, n))\n",
    "\n",
    "# 根据图添加边\n",
    "addEdge(linkMatrix, 1, 2)\n",
    "addEdge(linkMatrix, 1, 3)\n",
    "addEdge(linkMatrix, 2, 3)\n",
    "addEdge(linkMatrix, 3, 2)\n",
    "\n",
    "print(linkMatrix)\n",
    "\n",
    "transitionProbabilityMatrix = np.array(\n",
    "    [line / np.sum(line) for line in linkMatrix])\n",
    "transitionMatrixWithTeleporting = transitionProbabilityMatrix * \\\n",
    "    (1 - alpha) + alpha / n\n",
    "\n",
    "print(transitionMatrixWithTeleporting)\n",
    "# 初始化起始状态\n",
    "x = np.array([1/n] * n)\n",
    "print(f'x = {x}')\n",
    "\n",
    "for i in range(1, max_iter):\n",
    "    x_temp = np.dot(x, transitionMatrixWithTeleporting)\n",
    "    print(f'xP{i} = {np.around(x_temp, decimals=3)}')\n",
    "    if np.sum(np.abs(x - x_temp)) < epsilon:\n",
    "        break\n",
    "    else:\n",
    "        x = x_temp\n"
   ]
  }
 ],
 "metadata": {
  "interpreter": {
   "hash": "2b38f256b5e5cfcb08c8fab1bb2c0ed1d264b1b0baf1af9aa926f047321c09a2"
  },
  "kernelspec": {
   "display_name": "Python 3.9.7 ('base')",
   "language": "python",
   "name": "python3"
  },
  "language_info": {
   "codemirror_mode": {
    "name": "ipython",
    "version": 3
   },
   "file_extension": ".py",
   "mimetype": "text/x-python",
   "name": "python",
   "nbconvert_exporter": "python",
   "pygments_lexer": "ipython3",
   "version": "3.9.7"
  },
  "orig_nbformat": 4
 },
 "nbformat": 4,
 "nbformat_minor": 2
}
