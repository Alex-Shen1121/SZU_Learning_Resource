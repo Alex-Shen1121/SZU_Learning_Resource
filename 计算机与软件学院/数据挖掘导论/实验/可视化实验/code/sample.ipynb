{
 "cells": [
  {
   "cell_type": "markdown",
   "metadata": {},
   "source": [
    "# 案例一，股票数据勘探"
   ]
  },
  {
   "cell_type": "code",
   "execution_count": null,
   "metadata": {
    "collapsed": true,
    "pycharm": {
     "name": "#%% \n"
    }
   },
   "outputs": [],
   "source": [
    "import pandas as pd\n",
    "import matplotlib.pyplot as plt\n",
    "import matplotlib\n",
    "\n",
    "close_px_all = pd.read_csv('dataset/stock_px.csv', parse_dates=True, index_col=0)\n",
    "\n",
    "close_px_all.head()"
   ]
  },
  {
   "cell_type": "markdown",
   "metadata": {},
   "source": [
    "# 绘制折线图\n"
   ]
  },
  {
   "cell_type": "code",
   "execution_count": null,
   "metadata": {
    "pycharm": {
     "name": "#%%\n"
    }
   },
   "outputs": [],
   "source": [
    "import matplotlib.pyplot as plt\n",
    "import matplotlib\n",
    "#使绘图内嵌到 notebook 中\n",
    "%matplotlib inline\n",
    "\n",
    "close_px_all.plot(y=['MSFT', 'AAPL'], kind='line')"
   ]
  },
  {
   "cell_type": "markdown",
   "metadata": {},
   "source": [
    "## 绘制柱状图"
   ]
  },
  {
   "cell_type": "code",
   "execution_count": null,
   "metadata": {
    "pycharm": {
     "name": "#%%\n"
    }
   },
   "outputs": [],
   "source": [
    "# 在读取表格的时候，已经将时间的数据转换为\n",
    "# DatetimeIndex 对象了,并作为 DataFrame 的 index，现在可以\n",
    "# 取出每个时间的 year 属性值，用 print 语句查看 DataFrame\n",
    "# 的 index 的每个时间对象的年份属性。\n",
    "print(close_px_all.index.year)\n",
    "\n",
    "# 根据 close_px_all.index.year 返回的年份作来进行分组，用\n",
    "# mean 函数求每组的股票的平均值\n",
    "meanPrice = close_px_all.groupby(close_px_all.index.year).mean()\n",
    "print(meanPrice)\n",
    "\n",
    "meanPrice.plot(y=['AAPL', 'MSFT', 'XOM'], kind='bar')"
   ]
  },
  {
   "cell_type": "markdown",
   "metadata": {},
   "source": [
    "## 绘制直方图"
   ]
  },
  {
   "cell_type": "code",
   "execution_count": null,
   "metadata": {
    "pycharm": {
     "name": "#%%\n"
    }
   },
   "outputs": [],
   "source": [
    "# 这里的 alpha 参数是用于设置透明度的\n",
    "close_px_all.plot(y=['MSFT', 'XOM'], kind='hist', alpha=0.5)"
   ]
  },
  {
   "cell_type": "markdown",
   "metadata": {},
   "source": [
    "## 绘制密度图"
   ]
  },
  {
   "cell_type": "code",
   "execution_count": null,
   "metadata": {
    "pycharm": {
     "name": "#%%\n"
    }
   },
   "outputs": [],
   "source": [
    "close_px_all.plot(y=['MSFT', 'XOM'], kind='kde')"
   ]
  },
  {
   "cell_type": "markdown",
   "metadata": {},
   "source": [
    "# 绘制饼图"
   ]
  },
  {
   "cell_type": "code",
   "execution_count": null,
   "metadata": {
    "pycharm": {
     "name": "#%%\n"
    }
   },
   "outputs": [],
   "source": [
    "year2010 = close_px_all.iloc[close_px_all.index.year == 2010]\n",
    "year2010_month_mean = year2010.groupby(year2010.index.month).mean()\n",
    "# print(year2010_month_mean.sum())\n",
    "year2010_rate = year2010_month_mean / year2010_month_mean.sum()\n",
    "\n",
    "print(year2010_rate)\n",
    "\n",
    "fig, ax = plt.subplots(2, 2, figsize=(10, 10))\n",
    "ax_list = [ax[0, 0], ax[0, 1], ax[1, 0], ax[1, 1]]\n",
    "year2010_rate.plot(kind='pie', ax=ax_list, subplots=True)"
   ]
  },
  {
   "cell_type": "markdown",
   "metadata": {
    "collapsed": false
   },
   "source": [
    "# 案例二，鸢尾花数据勘探\n",
    "## 读取鸢尾花数据"
   ]
  },
  {
   "cell_type": "code",
   "execution_count": null,
   "metadata": {
    "collapsed": false,
    "pycharm": {
     "name": "#%%\n"
    }
   },
   "outputs": [],
   "source": [
    "iris = pd.read_csv('dataset/iris.csv')\n",
    "iris.head()"
   ]
  },
  {
   "cell_type": "code",
   "execution_count": null,
   "metadata": {
    "collapsed": false,
    "pycharm": {
     "name": "#%%\n"
    }
   },
   "outputs": [],
   "source": [
    "import matplotlib.pyplot as plt\n",
    "import matplotlib\n",
    "#使绘图内嵌到 notebook 中\n",
    "%matplotlib inline\n",
    "\n",
    "ax = iris[iris['class'] == 'setosa'].plot(x='petal length (cm)', y='petal width(cm)',\n",
    "                                          kind='scatter', c='red', ax=None, label='setosa')\n",
    "iris[iris['class'] == 'versicolor'].plot(x='petal length (cm)', y='petal width(cm)',\n",
    "                                         kind='scatter', c='blue', ax=ax, label='versicolor')\n",
    "iris[iris['class'] == 'virginica'].plot(x='petal length (cm)', y='petal width(cm)',\n",
    "                                        kind='scatter', c='orange', ax=ax, label='virginica')"
   ]
  },
  {
   "cell_type": "markdown",
   "metadata": {
    "collapsed": false
   },
   "source": [
    "## 绘制散布图"
   ]
  },
  {
   "cell_type": "code",
   "execution_count": null,
   "metadata": {
    "collapsed": false,
    "pycharm": {
     "name": "#%%\n"
    }
   },
   "outputs": [],
   "source": [
    "color = {'setosa': 'red', 'versicolor': 'blue', 'virginica': 'green'}\n",
    "pd.plotting.scatter_matrix(iris.iloc[:, :-1], figsize=(9, 9), diagonal='kde', marker='o',\n",
    "                           s=40, alpha=0.4, c=iris['class'].apply(lambda x: color[x]))"
   ]
  },
  {
   "cell_type": "markdown",
   "metadata": {
    "collapsed": false
   },
   "source": [
    "## 绘制调和曲线图"
   ]
  },
  {
   "cell_type": "code",
   "execution_count": null,
   "metadata": {
    "collapsed": false,
    "pycharm": {
     "name": "#%%\n"
    }
   },
   "outputs": [],
   "source": [
    "from pandas.plotting import andrews_curves\n",
    "\n",
    "andrews_curves(iris, 'class')"
   ]
  }
 ],
 "metadata": {
  "interpreter": {
   "hash": "07ca5a157a69428aec9009fdb996a4bdbb95e8e51a774c035a64b8b7dd2a6b87"
  },
  "kernelspec": {
   "display_name": "Python 3 (ipykernel)",
   "language": "python",
   "name": "python3"
  },
  "language_info": {
   "codemirror_mode": {
    "name": "ipython",
    "version": 3
   },
   "file_extension": ".py",
   "mimetype": "text/x-python",
   "name": "python",
   "nbconvert_exporter": "python",
   "pygments_lexer": "ipython3",
   "version": "3.8.11"
  }
 },
 "nbformat": 4,
 "nbformat_minor": 2
}
